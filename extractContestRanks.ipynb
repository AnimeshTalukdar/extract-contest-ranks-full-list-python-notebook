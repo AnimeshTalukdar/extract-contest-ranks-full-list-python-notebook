{
  "cells": [
    {
      "cell_type": "code",
      "execution_count": null,
      "metadata": {
        "id": "d9a457f3942faaf2"
      },
      "outputs": [],
      "source": [
        "!pip install selenium beautifulsoup4\n",
        "!apt-get update && apt-get install chromium chromium-driver\n"
      ],
      "id": "d9a457f3942faaf2"
    },
    {
      "cell_type": "code",
      "execution_count": null,
      "metadata": {
        "collapsed": true,
        "id": "initial_id"
      },
      "outputs": [],
      "source": [
        "\n",
        "from bs4 import BeautifulSoup\n",
        "from selenium import webdriver\n",
        "from selenium.webdriver.common.by import By\n",
        "from selenium.webdriver.support.ui import WebDriverWait\n",
        "from selenium.webdriver.support import expected_conditions as EC\n"
      ],
      "id": "initial_id"
    },
    {
      "cell_type": "code",
      "execution_count": null,
      "metadata": {
        "id": "733af5e8eb57d8cb"
      },
      "outputs": [],
      "source": [
        "base_url = \"https://leetcode.com/contest/biweekly-contest-112/ranking/\" # contest link"
      ],
      "id": "733af5e8eb57d8cb"
    },
    {
      "cell_type": "code",
      "execution_count": null,
      "metadata": {
        "id": "87928b0d997659e1"
      },
      "outputs": [],
      "source": [
        "def get_table(url):\n",
        "  try:\n",
        "    chrome_options = webdriver.ChromeOptions()\n",
        "    chrome_options.add_argument('--headless')\n",
        "    chrome_options.add_argument('--no-sandbox')\n",
        "    # chrome_options.headless = True\n",
        "    driver = webdriver.Chrome(options=chrome_options)\n",
        "    driver.get(url)\n",
        "    wait = WebDriverWait(driver, 10)\n",
        "    # wait for table-responsive class\n",
        "    wait.until(EC.presence_of_element_located((By.CLASS_NAME, 'table-responsive')))\n",
        "    dynamic_content = driver.page_source\n",
        "    cur_data = str(dynamic_content)\n",
        "    soup = BeautifulSoup(dynamic_content, 'html.parser')\n",
        "    # find class table-responsive\n",
        "    table = soup.find('div', {'class': 'table-responsive'})\n",
        "    table_body = table.find('tbody')\n",
        "    # convert table to list\n",
        "    table_list = []\n",
        "    for row in table_body.find_all('tr'):\n",
        "        cols = row.find_all('td')\n",
        "        cols = [ele.text.strip() for ele in cols]\n",
        "        table_list.append([ele for ele in cols if ele])  # Get rid of empty values\n",
        "    return table_list\n",
        "  except Exception as e:\n",
        "    return []\n",
        "\n",
        "\n",
        "\n"
      ],
      "id": "87928b0d997659e1"
    },
    {
      "cell_type": "code",
      "execution_count": null,
      "metadata": {
        "id": "c0EyP_lkrH0K"
      },
      "outputs": [],
      "source": [
        "# find the last element of \"page-btn\" class\n",
        "def find_last_page_no(url):\n",
        "    chrome_options = webdriver.ChromeOptions()\n",
        "    chrome_options.add_argument('--headless')\n",
        "    chrome_options.add_argument('--no-sandbox')\n",
        "    # chrome_options.headless = True\n",
        "    driver = webdriver.Chrome(options=chrome_options)\n",
        "    driver.get(url)\n",
        "    wait = WebDriverWait(driver, 10)\n",
        "    # wait for table-responsive class\n",
        "    wait.until(EC.presence_of_element_located((By.CLASS_NAME, 'table-responsive')))\n",
        "    dynamic_content = driver.page_source\n",
        "    cur_data = str(dynamic_content)\n",
        "    soup = BeautifulSoup(dynamic_content, 'html.parser')\n",
        "    # find class table-responsive\n",
        "    page_btn = soup.find_all('li', {'class': 'page-btn'})\n",
        "    # find the last element of page-btn class\n",
        "    last_page_no = page_btn[-1].text\n",
        "    return last_page_no"
      ],
      "id": "c0EyP_lkrH0K"
    },
    {
      "cell_type": "code",
      "execution_count": null,
      "metadata": {
        "id": "eGe_T4d_rapE"
      },
      "outputs": [],
      "source": [
        "def get_total_table(base_url):\n",
        "    last_page_no = find_last_page_no(base_url)\n",
        "    total_table = []\n",
        "    f = open('file.txt', 'a')\n",
        "    for i in range(1, int(last_page_no)+1):\n",
        "        print(i)\n",
        "        url = base_url + str(i)\n",
        "        table = get_table(url)\n",
        "        total_table += table\n",
        "        f.write(str(table)+str('\\n'))\n",
        "    f.close()\n",
        "    return total_table"
      ],
      "id": "eGe_T4d_rapE"
    },
    {
      "cell_type": "code",
      "execution_count": null,
      "metadata": {
        "colab": {
          "background_save": true,
          "base_uri": "https://localhost:8080/"
        },
        "id": "gScxOc47rzEt",
        "outputId": "ef98fa29-9dd5-433f-9e80-6e8273efcc4d"
      },
      "outputs": [
        {
          "name": "stdout",
          "output_type": "stream",
          "text": []
        }
      ],
      "source": [
        "total_table = get_total_table(base_url)"
      ],
      "id": "gScxOc47rzEt"
    },
    {
      "cell_type": "code",
      "execution_count": null,
      "metadata": {
        "colab": {
          "background_save": true
        },
        "id": "HoQb4CIG5Pg_"
      },
      "outputs": [],
      "source": [
        "# print(*total_table,sep='\\n')"
      ],
      "id": "HoQb4CIG5Pg_"
    },
    {
      "cell_type": "code",
      "execution_count": null,
      "metadata": {
        "colab": {
          "background_save": true
        },
        "id": "FtK2-h62UuAT"
      },
      "outputs": [],
      "source": [
        "with open('database.txt','w') as f:\n",
        "  for row in total_table:\n",
        "    f.write(str(row)+',\\n')"
      ],
      "id": "FtK2-h62UuAT"
    },
    {
      "cell_type": "code",
      "source": [
        "from google.colab import files\n",
        "files.download('database.txt')"
      ],
      "metadata": {
        "id": "smXmh6sfQiOs"
      },
      "id": "smXmh6sfQiOs",
      "execution_count": null,
      "outputs": []
    }
  ],
  "metadata": {
    "colab": {
      "provenance": []
    },
    "kernelspec": {
      "display_name": "Python 3",
      "language": "python",
      "name": "python3"
    },
    "language_info": {
      "codemirror_mode": {
        "name": "ipython",
        "version": 2
      },
      "file_extension": ".py",
      "mimetype": "text/x-python",
      "name": "python",
      "nbconvert_exporter": "python",
      "pygments_lexer": "ipython2",
      "version": "2.7.6"
    }
  },
  "nbformat": 4,
  "nbformat_minor": 5
}
